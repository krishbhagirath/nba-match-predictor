{
 "cells": [
  {
   "cell_type": "code",
   "execution_count": 7,
   "id": "bf6c4f1a",
   "metadata": {},
   "outputs": [],
   "source": [
    "import pandas as pd\n",
    "data = pd.read_csv(\"../data/nba_games_scaled.csv\", index_col=0)"
   ]
  },
  {
   "cell_type": "code",
   "execution_count": 8,
   "id": "16df7eda",
   "metadata": {},
   "outputs": [],
   "source": [
    "from sklearn.model_selection import TimeSeriesSplit     # import for feature selection (only want to train with certain data)\n",
    "# ensures we are only using past data to predict future outcomes (not vice versa!)\n",
    "\n",
    "from sklearn.feature_selection import SequentialFeatureSelector\n",
    "from sklearn.linear_model import RidgeClassifier\n",
    "\n",
    "rr = RidgeClassifier(alpha=0.1) # rr -> Ridge Regression (allows for classification) -> the MODEL itself\n",
    "split = TimeSeriesSplit(n_splits=3) # cross-validation strategy, 3 splits for time series cross-validation\n",
    "\n",
    "sfs = SequentialFeatureSelector(rr, n_features_to_select=30, direction=\"forward\", cv=split) # feature selection strategy: will train the model (rr) using different sets of features"
   ]
  },
  {
   "cell_type": "code",
   "execution_count": 9,
   "id": "a60712fa",
   "metadata": {},
   "outputs": [],
   "source": [
    "removed_columns = [\"season\", \"date\", \"won\", \"target\", \"team\", \"team_opp\"] # these columns are not to be used in the model\n",
    "# to optimize Ridge Regression performance, we scale the columns to values between 0 and 1\n",
    "# removed_columns includes columns that are NOT to be scaled"
   ]
  },
  {
   "cell_type": "code",
   "execution_count": 10,
   "id": "ef7c3f02",
   "metadata": {},
   "outputs": [],
   "source": [
    "selected_columns = data.columns[~data.columns.isin(removed_columns)] # negate columns in removed_columns"
   ]
  },
  {
   "cell_type": "code",
   "execution_count": 11,
   "id": "88f5a065",
   "metadata": {},
   "outputs": [
    {
     "data": {
      "text/plain": [
       "SequentialFeatureSelector(cv=TimeSeriesSplit(gap=0, max_train_size=None, n_splits=3, test_size=None),\n",
       "                          estimator=RidgeClassifier(alpha=0.1),\n",
       "                          n_features_to_select=30)"
      ]
     },
     "execution_count": 11,
     "metadata": {},
     "output_type": "execute_result"
    }
   ],
   "source": [
    "sfs.fit(data[selected_columns], data[\"target\"]) # fit the feature selector to the data\n",
    "# uses rr model to try different combinations of features to find the best set of features that predict TARGET (the outcome of the NEXT game)"
   ]
  },
  {
   "cell_type": "code",
   "execution_count": 12,
   "id": "b7ab9b70",
   "metadata": {},
   "outputs": [
    {
     "data": {
      "text/plain": [
       "['../models/ridge_regression/model_unoptimized.pkl']"
      ]
     },
     "execution_count": 12,
     "metadata": {},
     "output_type": "execute_result"
    }
   ],
   "source": [
    "import joblib\n",
    "joblib.dump(sfs, '../models/ridge_regression/feature_selector_unoptimized.pkl') # save the feature selector to a file for later use\n",
    "joblib.dump(rr, '../models/ridge_regression/model_unoptimized.pkl') # save the model to a file for later use\n"
   ]
  }
 ],
 "metadata": {
  "kernelspec": {
   "display_name": "base",
   "language": "python",
   "name": "python3"
  },
  "language_info": {
   "codemirror_mode": {
    "name": "ipython",
    "version": 3
   },
   "file_extension": ".py",
   "mimetype": "text/x-python",
   "name": "python",
   "nbconvert_exporter": "python",
   "pygments_lexer": "ipython3",
   "version": "3.8.8"
  }
 },
 "nbformat": 4,
 "nbformat_minor": 5
}
