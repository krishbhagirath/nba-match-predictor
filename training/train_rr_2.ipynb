{
 "cells": [
  {
   "cell_type": "code",
   "execution_count": 12,
   "id": "eae29b0a",
   "metadata": {},
   "outputs": [],
   "source": [
    "import pandas as pd\n",
    "full = pd.read_csv(\"../data/nba_games_rolling_averages.csv\", index_col=0)"
   ]
  },
  {
   "cell_type": "code",
   "execution_count": 14,
   "id": "31b4c1dd",
   "metadata": {},
   "outputs": [
    {
     "name": "stdout",
     "output_type": "stream",
     "text": [
      "Shape: (15774, 423)\n",
      "Total NaN values: 0\n",
      "NaN in target: 0\n"
     ]
    }
   ],
   "source": [
    "# In train_rr_2.ipynb, right after loading\n",
    "full = pd.read_csv(\"../data/nba_games_rolling_averages.csv\")\n",
    "\n",
    "print(\"Shape:\", full.shape)\n",
    "print(\"Total NaN values:\", full.isnull().sum().sum())\n",
    "print(\"NaN in target:\", full[\"target\"].isnull().sum())"
   ]
  },
  {
   "cell_type": "code",
   "execution_count": 15,
   "id": "aa975c97",
   "metadata": {},
   "outputs": [],
   "source": [
    "from sklearn.model_selection import TimeSeriesSplit     # import for feature selection (only want to train with certain data)\n",
    "# ensures we are only using past data to predict future outcomes (not vice versa!)\n",
    "\n",
    "from sklearn.feature_selection import SequentialFeatureSelector\n",
    "from sklearn.linear_model import RidgeClassifier\n",
    "\n",
    "rr = RidgeClassifier(alpha=0.1) # rr -> Ridge Regression (allows for classification) -> the MODEL itself\n",
    "split = TimeSeriesSplit(n_splits=3) # cross-validation strategy, 3 splits for time series cross-validation\n",
    "\n",
    "sfs = SequentialFeatureSelector(rr, n_features_to_select=30, direction=\"forward\", cv=split) # feature selection strategy: will train the model (rr) using different sets of features"
   ]
  },
  {
   "cell_type": "code",
   "execution_count": 16,
   "id": "31fa8be2",
   "metadata": {},
   "outputs": [],
   "source": [
    "# logic to choose columns to use for training\n",
    "\n",
    "removed_columns = list(full.columns[full.dtypes == \"object\"]) + ['season', 'date', 'won', 'target', 'team', 'team_opp']\n",
    "selected_columns = full.columns[~full.columns.isin(removed_columns)] # negate columns in removed_columns"
   ]
  },
  {
   "cell_type": "code",
   "execution_count": 17,
   "id": "2f9e8da3",
   "metadata": {},
   "outputs": [
    {
     "data": {
      "text/plain": [
       "SequentialFeatureSelector(cv=TimeSeriesSplit(gap=0, max_train_size=None, n_splits=3, test_size=None),\n",
       "                          estimator=RidgeClassifier(alpha=0.1),\n",
       "                          n_features_to_select=30)"
      ]
     },
     "execution_count": 17,
     "metadata": {},
     "output_type": "execute_result"
    }
   ],
   "source": [
    "sfs.fit(full[selected_columns], full[\"target\"]) # refit feature selector to new data with rolling averages"
   ]
  },
  {
   "cell_type": "code",
   "execution_count": 18,
   "id": "47f7389d",
   "metadata": {},
   "outputs": [
    {
     "data": {
      "text/plain": [
       "['../models/ridge_regression/model_optimized.pkl']"
      ]
     },
     "execution_count": 18,
     "metadata": {},
     "output_type": "execute_result"
    }
   ],
   "source": [
    "import joblib\n",
    "joblib.dump(sfs, '../models/ridge_regression/feature_selector_optimized.pkl') # save the feature selector to a file for later use\n",
    "joblib.dump(rr, '../models/ridge_regression/model_optimized.pkl') # save the feature selector to a file for later use"
   ]
  }
 ],
 "metadata": {
  "kernelspec": {
   "display_name": "base",
   "language": "python",
   "name": "python3"
  },
  "language_info": {
   "codemirror_mode": {
    "name": "ipython",
    "version": 3
   },
   "file_extension": ".py",
   "mimetype": "text/x-python",
   "name": "python",
   "nbconvert_exporter": "python",
   "pygments_lexer": "ipython3",
   "version": "3.8.8"
  }
 },
 "nbformat": 4,
 "nbformat_minor": 5
}
