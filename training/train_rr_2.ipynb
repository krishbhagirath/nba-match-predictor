{
 "cells": [
  {
   "cell_type": "code",
   "execution_count": null,
   "id": "eae29b0a",
   "metadata": {},
   "outputs": [],
   "source": [
    "import pandas as pd\n",
    "data = pd.read_csv(\"data/nba_games_rolling_averages.csv\", index_col=0)"
   ]
  },
  {
   "cell_type": "code",
   "execution_count": null,
   "id": "aa975c97",
   "metadata": {},
   "outputs": [],
   "source": [
    "from sklearn.model_selection import TimeSeriesSplit     # import for feature selection (only want to train with certain data)\n",
    "# ensures we are only using past data to predict future outcomes (not vice versa!)\n",
    "\n",
    "from sklearn.feature_selection import SequentialFeatureSelector\n",
    "from sklearn.linear_model import RidgeClassifier\n",
    "\n",
    "rr = RidgeClassifier(alpha=0.1) # rr -> Ridge Regression (allows for classification) -> the MODEL itself\n",
    "split = TimeSeriesSplit(n_splits=3) # cross-validation strategy, 3 splits for time series cross-validation\n",
    "\n",
    "sfs = SequentialFeatureSelector(rr, n_features_to_select=30, direction=\"forward\", cv=split) # feature selection strategy: will train the model (rr) using different sets of features"
   ]
  },
  {
   "cell_type": "code",
   "execution_count": null,
   "id": "9c97439d",
   "metadata": {},
   "outputs": [],
   "source": [
    "import nbimporter\n",
    "from predictor import full, selected_columns"
   ]
  },
  {
   "cell_type": "code",
   "execution_count": null,
   "id": "2f9e8da3",
   "metadata": {},
   "outputs": [],
   "source": [
    "sfs.fit(full[selected_columns], full[\"target\"]) # refit feature selector to new data with rolling averages"
   ]
  }
 ],
 "metadata": {
  "language_info": {
   "name": "python"
  }
 },
 "nbformat": 4,
 "nbformat_minor": 5
}
