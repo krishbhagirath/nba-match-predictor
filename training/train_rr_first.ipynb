{
 "cells": [
  {
   "cell_type": "code",
   "execution_count": null,
   "id": "bf6c4f1a",
   "metadata": {},
   "outputs": [],
   "source": [
    "import pandas as pd\n",
    "data = pd.read_csv(\"data/nba_games_scaled.csv\", index_col=0)"
   ]
  },
  {
   "cell_type": "code",
   "execution_count": null,
   "id": "16df7eda",
   "metadata": {},
   "outputs": [],
   "source": [
    "from sklearn.model_selection import TimeSeriesSplit     # import for feature selection (only want to train with certain data)\n",
    "# ensures we are only using past data to predict future outcomes (not vice versa!)\n",
    "\n",
    "from sklearn.feature_selection import SequentialFeatureSelector\n",
    "from sklearn.linear_model import RidgeClassifier\n",
    "\n",
    "rr = RidgeClassifier(alpha=0.1) # rr -> Ridge Regression (allows for classification) -> the MODEL itself\n",
    "split = TimeSeriesSplit(n_splits=3) # cross-validation strategy, 3 splits for time series cross-validation\n",
    "\n",
    "sfs = SequentialFeatureSelector(rr, n_features_to_select=30, direction=\"forward\", cv=split) # feature selection strategy: will train the model (rr) using different sets of features"
   ]
  },
  {
   "cell_type": "code",
   "execution_count": null,
   "id": "a60712fa",
   "metadata": {},
   "outputs": [],
   "source": [
    "removed_columns = [\"season\", \"date\", \"won\", \"target\", \"team\", \"team_opp\"] # these columns are not to be used in the model\n",
    "# to optimize Ridge Regression performance, we scale the columns to values between 0 and 1\n",
    "# removed_columns includes columns that are NOT to be scaled"
   ]
  },
  {
   "cell_type": "code",
   "execution_count": null,
   "id": "ef7c3f02",
   "metadata": {},
   "outputs": [],
   "source": [
    "selected_columns = data.columns[~data.columns.isin(removed_columns)] # negate columns in removed_columns"
   ]
  },
  {
   "cell_type": "code",
   "execution_count": null,
   "id": "88f5a065",
   "metadata": {},
   "outputs": [],
   "source": [
    "sfs.fit(data[selected_columns], data[\"target\"]) # fit the feature selector to the data\n",
    "# uses rr model to try different combinations of features to find the best set of features that predict TARGET (the outcome of the NEXT game)"
   ]
  }
 ],
 "metadata": {
  "language_info": {
   "name": "python"
  }
 },
 "nbformat": 4,
 "nbformat_minor": 5
}
